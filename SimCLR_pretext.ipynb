{
  "cells": [
    {
      "cell_type": "markdown",
      "metadata": {
        "id": "r8gmKK7APluc"
      },
      "source": [
        "SimCLR study on Cifar10 data. \n",
        "\n",
        "Network: ResNet18 \n",
        "\n",
        "Batch size: 256\n",
        "\n",
        "Optimizer: SGD\n",
        "\n",
        "Loss: NT-Xent loss\n",
        "\n",
        "lr:  0.3\n",
        "\n",
        "Pre-Training data: 10000 images (1000 image per class)\n",
        "\n",
        "Trained for 300 epochs"
      ]
    },
    {
      "cell_type": "code",
      "execution_count": null,
      "metadata": {},
      "outputs": [],
      "source": [
        "import os\n",
        "os.environ[\"CUDA_VISIBLE_DEVICES\"] = \"1\""
      ]
    },
    {
      "cell_type": "code",
      "execution_count": null,
      "metadata": {
        "id": "iXESJ2O74nhU"
      },
      "outputs": [],
      "source": [
        "import torch\n",
        "import torchvision\n",
        "import torchvision.transforms as transforms\n",
        "import matplotlib.pyplot as plt\n",
        "import numpy as np\n",
        "import torch.nn.functional as F\n",
        "from torch.utils.data import random_split\n",
        "from torchvision.utils import make_grid\n",
        "import torch.nn as nn\n",
        "from torch.optim import lr_scheduler\n",
        "import copy\n",
        "import time\n",
        "import os\n",
        "import argparse\n",
        "from torch.utils.data import Subset\n",
        "import csv\n",
        "device = torch.device('cuda')\n",
        "from ResNet import *\n",
        "import matplotlib.pyplot as plt\n",
        "#tqdm\n",
        "from tqdm import tqdm"
      ]
    },
    {
      "cell_type": "code",
      "execution_count": null,
      "metadata": {},
      "outputs": [],
      "source": [
        "loaded_data = torch.load(\"/home/rishabh.mondal/Brick-Kilns-project/albk_rishabh/tensor_data/test_data.pt\")\n",
        "loaded_data1 = torch.load(\"/home/rishabh.mondal/Brick-Kilns-project/albk_rishabh/tensor_data/data.pt\")"
      ]
    },
    {
      "cell_type": "code",
      "execution_count": null,
      "metadata": {},
      "outputs": [],
      "source": [
        "index = loaded_data['index']\n",
        "images1 = loaded_data['images']\n",
        "labels1 = loaded_data['labels']\n",
        "#print shape of tensors\n",
        "# images1=images1\n",
        "# images1 = images1 / 255\n",
        "#     # mean normalize\n",
        "# images1 = (images1 - images1.mean(dim=(0, 2, 3), keepdim=True)) / images1.std(dim=(0, 2, 3), keepdim=True)\n",
        "d_images1=images1[:5000]\n",
        "d_labels1=labels1[:5000]\n",
        "print(d_images1.shape)\n",
        "print(d_labels1.shape)\n"
      ]
    },
    {
      "cell_type": "code",
      "execution_count": null,
      "metadata": {},
      "outputs": [],
      "source": [
        "image=loaded_data1['images']\n",
        "label=loaded_data1['labels']\n",
        "# image=image/255\n",
        "# image=(image-image.mean(dim=(0,2,3),keepdim=True))/image.std(dim=(0,2,3),keepdim=True)\n",
        "b_image1=image[:10000]\n",
        "b_label1=label[:10000]\n",
        "print(b_image1.shape)\n",
        "print(b_label1.shape)"
      ]
    },
    {
      "cell_type": "code",
      "execution_count": null,
      "metadata": {},
      "outputs": [],
      "source": [
        "# image=image[10000:]\n",
        "# image1=images1[5000:]\n",
        "# label=label[10000:]\n",
        "# label1=labels1[5000:]"
      ]
    },
    {
      "cell_type": "code",
      "execution_count": null,
      "metadata": {},
      "outputs": [],
      "source": [
        "pretrain_images = torch.cat((b_image1, d_images1), dim=0)\n",
        "pretrain_labels = torch.cat((b_label1, d_labels1), dim=0)\n",
        "pretrain_image=pretrain_images/255\n",
        "pretrain_image=(pretrain_image-pretrain_image.mean(dim=(0,2,3),keepdim=True))/pretrain_image.std(dim=(0,2,3),keepdim=True)"
      ]
    },
    {
      "cell_type": "code",
      "execution_count": null,
      "metadata": {},
      "outputs": [],
      "source": [
        "pretrain_images.shape\n",
        "pretrain_labels.shape"
      ]
    },
    {
      "cell_type": "markdown",
      "metadata": {},
      "source": [
        "### Augmentaion on pre-training data"
      ]
    },
    {
      "cell_type": "code",
      "execution_count": null,
      "metadata": {
        "id": "kQ8srBZo2UsG"
      },
      "outputs": [],
      "source": [
        "class Augment_train(object):\n",
        "  def __init__(self,size):\n",
        "    s = 0.5 # jitter strength\n",
        "    # size = 224\n",
        "    color_jitter = transforms.ColorJitter(0.4*s, 0.4*s, 0.4*s, 0.1*s)\n",
        "    \n",
        "    self.train_transforms = transforms.Compose([\n",
        "        # transforms.RandomResizedCrop(size, scale=(0.08, 1.0), ratio=(0.75, 1.3333333333333333)),\n",
        "        transforms.RandomHorizontalFlip(p=0.5),\n",
        "        transforms.RandomApply([color_jitter], p=0.5), \n",
        "        transforms.RandomGrayscale(p=0.4),\n",
        "        # transforms.Normalize((0.4914, 0.4822, 0.4465), (0.2023, 0.1994, 0.2010)),\n",
        "      ])\n",
        "  \n",
        "  def __call__(self,x):\n",
        "    transform = self.train_transforms\n",
        "\n",
        "    xi = transform(x)\n",
        "    xj = transform(x)\n",
        "    return xi, xj"
      ]
    },
    {
      "cell_type": "code",
      "execution_count": null,
      "metadata": {},
      "outputs": [],
      "source": [
        "aumention = Augment_train(224)\n",
        "augmented_images1,augmented_images2 = aumention(pretrain_image)"
      ]
    },
    {
      "cell_type": "code",
      "execution_count": null,
      "metadata": {},
      "outputs": [],
      "source": [
        "augmented_images1.shape\n",
        "augmented_images2.shape"
      ]
    },
    {
      "cell_type": "code",
      "execution_count": null,
      "metadata": {},
      "outputs": [],
      "source": [
        "b_images2=image[10000:20000]\n",
        "b_labels2=label[10000:20000]\n",
        "b_images2.shape\n",
        "b_labels2.shape"
      ]
    },
    {
      "cell_type": "code",
      "execution_count": null,
      "metadata": {},
      "outputs": [],
      "source": [
        "d_images2=images1[5000:7000]\n",
        "d_labels2=labels1[5000:7000]\n",
        "d_images2.shape\n",
        "d_labels2.shape"
      ]
    },
    {
      "cell_type": "code",
      "execution_count": null,
      "metadata": {},
      "outputs": [],
      "source": [
        "pretrain_images1 = torch.cat((b_images2, d_images2), dim=0)\n",
        "pretrain_labels1 = torch.cat((b_labels2, d_labels2), dim=0)\n",
        "pretrain_image1=pretrain_images1/255\n",
        "pretrain_image1=(pretrain_image1-pretrain_image1.mean(dim=(0,2,3),keepdim=True))/pretrain_image1.std(dim=(0,2,3),keepdim=True)"
      ]
    },
    {
      "cell_type": "code",
      "execution_count": null,
      "metadata": {},
      "outputs": [],
      "source": [
        "augmented_images11,augmented_images22 = aumention(pretrain_image1)"
      ]
    },
    {
      "cell_type": "code",
      "execution_count": null,
      "metadata": {},
      "outputs": [],
      "source": [
        "augmented_images11.shape"
      ]
    },
    {
      "cell_type": "code",
      "execution_count": null,
      "metadata": {},
      "outputs": [],
      "source": [
        "b_images3=image[20000:]\n",
        "b_labels3=label[20000:]\n",
        "b_images3.shape\n",
        "b_labels3.shape"
      ]
    },
    {
      "cell_type": "code",
      "execution_count": null,
      "metadata": {},
      "outputs": [],
      "source": [
        "d_images3=images1[7000:]\n",
        "d_labels3=labels1[7000:]\n",
        "d_images3.shape\n",
        "d_labels3.shape"
      ]
    },
    {
      "cell_type": "code",
      "execution_count": null,
      "metadata": {},
      "outputs": [],
      "source": [
        "pretrain_images2 = torch.cat((b_images3, d_images3), dim=0)\n",
        "pretrain_labels2 = torch.cat((b_labels3, d_labels3), dim=0)\n",
        "pretrain_image2=pretrain_images2/255\n",
        "pretrain_image2=(pretrain_image2-pretrain_image2.mean(dim=(0,2,3),keepdim=True))/pretrain_image2.std(dim=(0,2,3),keepdim=True)"
      ]
    },
    {
      "cell_type": "code",
      "execution_count": null,
      "metadata": {},
      "outputs": [],
      "source": [
        "augmented_images123,augmented_images223 = aumention(pretrain_image2)"
      ]
    },
    {
      "cell_type": "code",
      "execution_count": null,
      "metadata": {},
      "outputs": [],
      "source": [
        "augmented_images123.shape"
      ]
    },
    {
      "cell_type": "code",
      "execution_count": null,
      "metadata": {},
      "outputs": [],
      "source": [
        "augmented_images123.shape\n",
        "augmented_images1.shape\n",
        "augmented_images11.shape"
      ]
    },
    {
      "cell_type": "code",
      "execution_count": null,
      "metadata": {},
      "outputs": [],
      "source": [
        "augmented_images_T1= torch.cat((augmented_images1,augmented_images11,augmented_images123),dim=0)\n",
        "augmented_images_T2= torch.cat((augmented_images2,augmented_images22,augmented_images223),dim=0)"
      ]
    },
    {
      "cell_type": "code",
      "execution_count": null,
      "metadata": {},
      "outputs": [],
      "source": [
        "print(augmented_images_T1.shape)\n",
        "print(augmented_images_T2.shape)\n"
      ]
    },
    {
      "cell_type": "markdown",
      "metadata": {},
      "source": [
        "### Prepare the Train loader"
      ]
    },
    {
      "cell_type": "code",
      "execution_count": null,
      "metadata": {},
      "outputs": [],
      "source": [
        "import torch\n",
        "from torch.utils.data import Dataset, DataLoader\n",
        "\n",
        "print(augmented_images1.shape)\n",
        "print(augmented_images2.shape)\n",
        "class CustomDataset(Dataset):\n",
        "    def __init__(self, images1, images2):\n",
        "        self.images1 = images1\n",
        "        self.images2 = images2\n",
        "\n",
        "    def __len__(self):\n",
        "        return len(self.images1)\n",
        "\n",
        "    def __getitem__(self, idx):\n",
        "        return self.images1[idx], self.images2[idx]\n",
        "\n",
        "custom_dataset = CustomDataset(augmented_images_T1, augmented_images_T2)\n",
        "print(len(custom_dataset))\n",
        "trainloader = DataLoader(custom_dataset, batch_size=256 ,shuffle=True, num_workers=16)\n"
      ]
    },
    {
      "cell_type": "code",
      "execution_count": null,
      "metadata": {},
      "outputs": [],
      "source": [
        "data_loader_size = len(trainloader)\n",
        "print(\"Data loader size:\", data_loader_size)\n"
      ]
    },
    {
      "cell_type": "code",
      "execution_count": null,
      "metadata": {},
      "outputs": [],
      "source": [
        "import matplotlib.pyplot as plt\n",
        "\n",
        "# Get the first batch of images from the trainloader\n",
        "for i, (batch_images1, batch_images2) in enumerate(trainloader):\n",
        "    if i == 0:\n",
        "        break\n",
        "\n",
        "# Plot the images\n",
        "fig, axes = plt.subplots(2, 6, figsize=(10, 5))\n",
        "for i in range(6):\n",
        "    # Plot images from batch_images1\n",
        "    image1 = (batch_images1[i] - batch_images1[i].min()) / (batch_images1[i].max() - batch_images1[i].min())\n",
        "    axes[0, i].imshow(image1.permute(1, 2, 0))\n",
        "    axes[0, i].axis('off')\n",
        "\n",
        "    # Plot images from batch_images2\n",
        "    image2 = (batch_images2[i] - batch_images2[i].min()) / (batch_images2[i].max() - batch_images2[i].min())\n",
        "    axes[1, i].imshow(image2.permute(1, 2, 0))\n",
        "    axes[1, i].axis('off')\n",
        "\n",
        "plt.show()\n"
      ]
    },
    {
      "cell_type": "markdown",
      "metadata": {},
      "source": [
        "### SimCLR  specific Loss function Cosine Similarity"
      ]
    },
    {
      "cell_type": "code",
      "execution_count": null,
      "metadata": {
        "id": "CotkzqPDWWsZ"
      },
      "outputs": [],
      "source": [
        "class NTXent_L(nn.Module):\n",
        "  def __init__(self,batch_size,temperature=0.5):\n",
        "      super().__init__()\n",
        "      self.batch_size=batch_size\n",
        "      self.temperature = temperature\n",
        "      \n",
        "  def cosine_sim(self, output1,output2): #output1, output2 as 2 augmented versions of image;\n",
        "    o_con= torch.cat([output1,output2], dim=0)\n",
        "    return F.cosine_similarity(o_con.unsqueeze(1), o_con.unsqueeze(0), dim=2)\n",
        "  def forward(self, z_i, z_j):\n",
        "\n",
        "    batch_size= z_i.shape[0]\n",
        "\n",
        "    sim_m = self.cosine_sim(z_i,z_j)\n",
        "\n",
        "    sim_ij = torch.diag(sim_m,batch_size)\n",
        "    sim_ji = torch.diag(sim_m, -batch_size)\n",
        "   \n",
        "    sim_con= torch.cat([sim_ij, sim_ji],dim=0)\n",
        "    pos= torch.exp(sim_con/self.temperature)\n",
        "    mask = (~torch.eye(batch_size *2 ,batch_size*2, dtype=bool)).float()\n",
        "    neg= mask.to(device) *torch.exp(sim_m/self.temperature)\n",
        "    loss = torch.sum(-torch.log(pos/torch.sum(neg, dim=1))) / (2*self.batch_size)\n",
        "    \n",
        "    return loss"
      ]
    },
    {
      "cell_type": "code",
      "execution_count": null,
      "metadata": {
        "id": "4-SlIq_y5V8P"
      },
      "outputs": [],
      "source": [
        "criterion = NTXent_L(batch_size=256, temperature = 0.5)\n",
        "criterion = criterion.to(device)"
      ]
    },
    {
      "cell_type": "markdown",
      "metadata": {},
      "source": [
        "### SimCLR Model"
      ]
    },
    {
      "cell_type": "code",
      "execution_count": null,
      "metadata": {},
      "outputs": [],
      "source": [
        "# base_encoder\n",
        "base_encoder = torchvision.models.efficientnet(pretrained=True)\n",
        "base_encoder "
      ]
    },
    {
      "cell_type": "code",
      "execution_count": null,
      "metadata": {
        "id": "siwPNrNjMLEP"
      },
      "outputs": [],
      "source": [
        "# base_encoder= ResNet50()\n",
        "class Identity(nn.Module):\n",
        "    def __init__(self):\n",
        "        super(Identity, self).__init__()\n",
        "\n",
        "    def forward(self, x):\n",
        "        return x\n",
        "    \n",
        "    \n",
        "class SimCLR_model(nn.Module):\n",
        "\n",
        "    def __init__(self, base_encoder, projection_dim, n_features):\n",
        "        super(SimCLR_model, self).__init__()\n",
        "\n",
        "        self.base_encoder = base_encoder\n",
        "        self.n_features = n_features\n",
        "        self.base_encoder.fc=nn.Linear(n_features, n_features)\n",
        "        self.base_encoder.linear=Identity()\n",
        "        self.projectionHead = nn.Sequential(\n",
        "            nn.Linear(self.n_features, self.n_features, bias=False),\n",
        "            nn.BatchNorm1d(self.n_features),\n",
        "            nn.ReLU(), #non-linearity\n",
        "            nn.Linear(self.n_features, projection_dim, bias=False),\n",
        "            nn.BatchNorm1d(projection_dim),\n",
        "        )\n",
        "        # self.base_encoder.fc=Identity()\n",
        "\n",
        "    def forward(self, x_i, x_j):\n",
        "        h_i = self.base_encoder(x_i)\n",
        "        h_j = self.base_encoder(x_j)\n",
        "        z_i = self.projectionHead(h_i)\n",
        "        z_j = self.projectionHead(h_j)\n",
        "       \n",
        "        return h_i, h_j, z_i, z_j\n",
        "    \n",
        "projection_dim=128\n",
        "n_features= base_encoder.fc.in_features\n",
        "net= SimCLR_model(base_encoder, projection_dim, n_features)\n",
        "net= net.to(device)\n",
        "batch_size = 512\n",
        "lr = 0.3\n",
        "start_epoch=0\n",
        "max_epoch=300\n",
        "# optimizer= torch.optim.Adam(net.parameters(), lr)\n",
        "optimizer = torch.optim.Adam(net.parameters(), lr=lr, weight_decay=1e-6)"
      ]
    },
    {
      "cell_type": "code",
      "execution_count": null,
      "metadata": {},
      "outputs": [],
      "source": [
        "net.to(device)"
      ]
    },
    {
      "cell_type": "markdown",
      "metadata": {},
      "source": [
        "### Train the Pre-text task"
      ]
    },
    {
      "cell_type": "code",
      "execution_count": null,
      "metadata": {},
      "outputs": [],
      "source": [
        "net.base_encoder.fc.weight\n",
        "# a=net.base_encoder.classifier[1].weight\n",
        "# a.shape"
      ]
    },
    {
      "cell_type": "code",
      "execution_count": null,
      "metadata": {
        "id": "evBab6cIVHVf"
      },
      "outputs": [],
      "source": [
        "train_losses = []\n",
        "def train(epoch):\n",
        "    net.train()\n",
        "    s = 0\n",
        "    tot_loss = 0\n",
        "    total = 0\n",
        "    batch_idx = 0\n",
        "    i = 0\n",
        "    for batch_idx, (images) in enumerate(trainloader):\n",
        "        images[0], images[1] = images[0].to(device), images[1].to(device)\n",
        "        optimizer.zero_grad()\n",
        "\n",
        "        h_i, h_j, z_i, z_j = net(images[0], images[1])\n",
        "        loss = criterion(z_i, z_j)\n",
        "\n",
        "        loss.backward()\n",
        "\n",
        "        optimizer.step()\n",
        "\n",
        "        tot_loss += loss.item()\n",
        "\n",
        "    # print(\"epoch=\", epoch)\n",
        "    # print(\"epoch loss=\", tot_loss)\n",
        "    train_losses.append(tot_loss)\n",
        "\n",
        "    if epoch % 10 == 0:\n",
        "        modelstate_save_name = 'modelstate_bs_restart_r_bk_DB_resnet50_3.pt'\n",
        "        path_modelstate = F\"/home/rishabh.mondal/Brick-Kilns-project/albk_rishabh/Saved_model/{modelstate_save_name}\"\n",
        "        torch.save(net.state_dict(), path_modelstate)\n",
        "\n",
        "        parameters_end = {\n",
        "            'net': net.state_dict(),\n",
        "            'epoch': epoch,\n",
        "            'loss': tot_loss\n",
        "        }\n",
        "        paramsend_save_name = 'paramsend_bs_restart_r_bk_DB_resenet50_3.pt'\n",
        "        path_paramsend = F\"/home/rishabh.mondal/Brick-Kilns-project/albk_rishabh/Saved_model/{paramsend_save_name}\"\n",
        "        torch.save(parameters_end, path_paramsend)\n",
        "        print(\"epoch=\", epoch)\n",
        "        print(\"epoch loss=\", tot_loss)\n",
        "\n",
        "net.to(device)\n",
        "\n",
        "for epoch in tqdm(range(start_epoch, start_epoch + 301)):\n",
        "    train(epoch)\n"
      ]
    },
    {
      "cell_type": "code",
      "execution_count": null,
      "metadata": {},
      "outputs": [],
      "source": []
    },
    {
      "cell_type": "code",
      "execution_count": null,
      "metadata": {},
      "outputs": [],
      "source": [
        "plt.plot(train_losses)\n",
        "plt.xlabel('Epoch')\n",
        "plt.ylabel('Training Loss')\n",
        "plt.title('Training Loss over Epochs')\n",
        "plt.show()"
      ]
    },
    {
      "cell_type": "code",
      "execution_count": null,
      "metadata": {},
      "outputs": [],
      "source": []
    },
    {
      "cell_type": "code",
      "execution_count": null,
      "metadata": {},
      "outputs": [],
      "source": []
    },
    {
      "cell_type": "code",
      "execution_count": null,
      "metadata": {},
      "outputs": [],
      "source": []
    },
    {
      "cell_type": "code",
      "execution_count": null,
      "metadata": {},
      "outputs": [],
      "source": []
    },
    {
      "cell_type": "code",
      "execution_count": null,
      "metadata": {},
      "outputs": [],
      "source": []
    },
    {
      "cell_type": "code",
      "execution_count": null,
      "metadata": {},
      "outputs": [],
      "source": []
    },
    {
      "cell_type": "code",
      "execution_count": null,
      "metadata": {},
      "outputs": [],
      "source": [
        "\n"
      ]
    }
  ],
  "metadata": {
    "accelerator": "GPU",
    "colab": {
      "provenance": []
    },
    "gpuClass": "standard",
    "kernelspec": {
      "display_name": "Python 3",
      "name": "python3"
    },
    "language_info": {
      "codemirror_mode": {
        "name": "ipython",
        "version": 3
      },
      "file_extension": ".py",
      "mimetype": "text/x-python",
      "name": "python",
      "nbconvert_exporter": "python",
      "pygments_lexer": "ipython3",
      "version": "3.11.5"
    },
    "widgets": {
      "application/vnd.jupyter.widget-state+json": {
        "0472bea112604ce38fae9eb0dd8c7016": {
          "model_module": "@jupyter-widgets/controls",
          "model_module_version": "1.5.0",
          "model_name": "FloatProgressModel",
          "state": {
            "_dom_classes": [],
            "_model_module": "@jupyter-widgets/controls",
            "_model_module_version": "1.5.0",
            "_model_name": "FloatProgressModel",
            "_view_count": null,
            "_view_module": "@jupyter-widgets/controls",
            "_view_module_version": "1.5.0",
            "_view_name": "ProgressView",
            "bar_style": "success",
            "description": "",
            "description_tooltip": null,
            "layout": "IPY_MODEL_e4931b58bb4b4a3f8260a455dd292074",
            "max": 170498071,
            "min": 0,
            "orientation": "horizontal",
            "style": "IPY_MODEL_3346ed3347af4c8e91a73f7946e7cbfa",
            "value": 170498071
          }
        },
        "0ef8906a788f4b9a917bfd89347dc6e0": {
          "model_module": "@jupyter-widgets/controls",
          "model_module_version": "1.5.0",
          "model_name": "DescriptionStyleModel",
          "state": {
            "_model_module": "@jupyter-widgets/controls",
            "_model_module_version": "1.5.0",
            "_model_name": "DescriptionStyleModel",
            "_view_count": null,
            "_view_module": "@jupyter-widgets/base",
            "_view_module_version": "1.2.0",
            "_view_name": "StyleView",
            "description_width": ""
          }
        },
        "1005bf7a75a841fbbb94c2909bcea09d": {
          "model_module": "@jupyter-widgets/controls",
          "model_module_version": "1.5.0",
          "model_name": "DescriptionStyleModel",
          "state": {
            "_model_module": "@jupyter-widgets/controls",
            "_model_module_version": "1.5.0",
            "_model_name": "DescriptionStyleModel",
            "_view_count": null,
            "_view_module": "@jupyter-widgets/base",
            "_view_module_version": "1.2.0",
            "_view_name": "StyleView",
            "description_width": ""
          }
        },
        "3346ed3347af4c8e91a73f7946e7cbfa": {
          "model_module": "@jupyter-widgets/controls",
          "model_module_version": "1.5.0",
          "model_name": "ProgressStyleModel",
          "state": {
            "_model_module": "@jupyter-widgets/controls",
            "_model_module_version": "1.5.0",
            "_model_name": "ProgressStyleModel",
            "_view_count": null,
            "_view_module": "@jupyter-widgets/base",
            "_view_module_version": "1.2.0",
            "_view_name": "StyleView",
            "bar_color": null,
            "description_width": ""
          }
        },
        "35b6e8cea90747eab7a2bd5996bdd73b": {
          "model_module": "@jupyter-widgets/base",
          "model_module_version": "1.2.0",
          "model_name": "LayoutModel",
          "state": {
            "_model_module": "@jupyter-widgets/base",
            "_model_module_version": "1.2.0",
            "_model_name": "LayoutModel",
            "_view_count": null,
            "_view_module": "@jupyter-widgets/base",
            "_view_module_version": "1.2.0",
            "_view_name": "LayoutView",
            "align_content": null,
            "align_items": null,
            "align_self": null,
            "border": null,
            "bottom": null,
            "display": null,
            "flex": null,
            "flex_flow": null,
            "grid_area": null,
            "grid_auto_columns": null,
            "grid_auto_flow": null,
            "grid_auto_rows": null,
            "grid_column": null,
            "grid_gap": null,
            "grid_row": null,
            "grid_template_areas": null,
            "grid_template_columns": null,
            "grid_template_rows": null,
            "height": null,
            "justify_content": null,
            "justify_items": null,
            "left": null,
            "margin": null,
            "max_height": null,
            "max_width": null,
            "min_height": null,
            "min_width": null,
            "object_fit": null,
            "object_position": null,
            "order": null,
            "overflow": null,
            "overflow_x": null,
            "overflow_y": null,
            "padding": null,
            "right": null,
            "top": null,
            "visibility": null,
            "width": null
          }
        },
        "4fbaf6d539f045249d12f3e465534d4f": {
          "model_module": "@jupyter-widgets/controls",
          "model_module_version": "1.5.0",
          "model_name": "HBoxModel",
          "state": {
            "_dom_classes": [],
            "_model_module": "@jupyter-widgets/controls",
            "_model_module_version": "1.5.0",
            "_model_name": "HBoxModel",
            "_view_count": null,
            "_view_module": "@jupyter-widgets/controls",
            "_view_module_version": "1.5.0",
            "_view_name": "HBoxView",
            "box_style": "",
            "children": [
              "IPY_MODEL_71c2733f5cac4b34aec139920b2276bb",
              "IPY_MODEL_0472bea112604ce38fae9eb0dd8c7016",
              "IPY_MODEL_d936face0d2342fd80ebdf02d66a4b38"
            ],
            "layout": "IPY_MODEL_35b6e8cea90747eab7a2bd5996bdd73b"
          }
        },
        "71c2733f5cac4b34aec139920b2276bb": {
          "model_module": "@jupyter-widgets/controls",
          "model_module_version": "1.5.0",
          "model_name": "HTMLModel",
          "state": {
            "_dom_classes": [],
            "_model_module": "@jupyter-widgets/controls",
            "_model_module_version": "1.5.0",
            "_model_name": "HTMLModel",
            "_view_count": null,
            "_view_module": "@jupyter-widgets/controls",
            "_view_module_version": "1.5.0",
            "_view_name": "HTMLView",
            "description": "",
            "description_tooltip": null,
            "layout": "IPY_MODEL_cdd363f97f044c55afa07cb805aa674d",
            "placeholder": "​",
            "style": "IPY_MODEL_1005bf7a75a841fbbb94c2909bcea09d",
            "value": "100%"
          }
        },
        "b941dab936f64c74a11ca99cd0bce267": {
          "model_module": "@jupyter-widgets/base",
          "model_module_version": "1.2.0",
          "model_name": "LayoutModel",
          "state": {
            "_model_module": "@jupyter-widgets/base",
            "_model_module_version": "1.2.0",
            "_model_name": "LayoutModel",
            "_view_count": null,
            "_view_module": "@jupyter-widgets/base",
            "_view_module_version": "1.2.0",
            "_view_name": "LayoutView",
            "align_content": null,
            "align_items": null,
            "align_self": null,
            "border": null,
            "bottom": null,
            "display": null,
            "flex": null,
            "flex_flow": null,
            "grid_area": null,
            "grid_auto_columns": null,
            "grid_auto_flow": null,
            "grid_auto_rows": null,
            "grid_column": null,
            "grid_gap": null,
            "grid_row": null,
            "grid_template_areas": null,
            "grid_template_columns": null,
            "grid_template_rows": null,
            "height": null,
            "justify_content": null,
            "justify_items": null,
            "left": null,
            "margin": null,
            "max_height": null,
            "max_width": null,
            "min_height": null,
            "min_width": null,
            "object_fit": null,
            "object_position": null,
            "order": null,
            "overflow": null,
            "overflow_x": null,
            "overflow_y": null,
            "padding": null,
            "right": null,
            "top": null,
            "visibility": null,
            "width": null
          }
        },
        "cdd363f97f044c55afa07cb805aa674d": {
          "model_module": "@jupyter-widgets/base",
          "model_module_version": "1.2.0",
          "model_name": "LayoutModel",
          "state": {
            "_model_module": "@jupyter-widgets/base",
            "_model_module_version": "1.2.0",
            "_model_name": "LayoutModel",
            "_view_count": null,
            "_view_module": "@jupyter-widgets/base",
            "_view_module_version": "1.2.0",
            "_view_name": "LayoutView",
            "align_content": null,
            "align_items": null,
            "align_self": null,
            "border": null,
            "bottom": null,
            "display": null,
            "flex": null,
            "flex_flow": null,
            "grid_area": null,
            "grid_auto_columns": null,
            "grid_auto_flow": null,
            "grid_auto_rows": null,
            "grid_column": null,
            "grid_gap": null,
            "grid_row": null,
            "grid_template_areas": null,
            "grid_template_columns": null,
            "grid_template_rows": null,
            "height": null,
            "justify_content": null,
            "justify_items": null,
            "left": null,
            "margin": null,
            "max_height": null,
            "max_width": null,
            "min_height": null,
            "min_width": null,
            "object_fit": null,
            "object_position": null,
            "order": null,
            "overflow": null,
            "overflow_x": null,
            "overflow_y": null,
            "padding": null,
            "right": null,
            "top": null,
            "visibility": null,
            "width": null
          }
        },
        "d936face0d2342fd80ebdf02d66a4b38": {
          "model_module": "@jupyter-widgets/controls",
          "model_module_version": "1.5.0",
          "model_name": "HTMLModel",
          "state": {
            "_dom_classes": [],
            "_model_module": "@jupyter-widgets/controls",
            "_model_module_version": "1.5.0",
            "_model_name": "HTMLModel",
            "_view_count": null,
            "_view_module": "@jupyter-widgets/controls",
            "_view_module_version": "1.5.0",
            "_view_name": "HTMLView",
            "description": "",
            "description_tooltip": null,
            "layout": "IPY_MODEL_b941dab936f64c74a11ca99cd0bce267",
            "placeholder": "​",
            "style": "IPY_MODEL_0ef8906a788f4b9a917bfd89347dc6e0",
            "value": " 170498071/170498071 [00:04&lt;00:00, 46648320.99it/s]"
          }
        },
        "e4931b58bb4b4a3f8260a455dd292074": {
          "model_module": "@jupyter-widgets/base",
          "model_module_version": "1.2.0",
          "model_name": "LayoutModel",
          "state": {
            "_model_module": "@jupyter-widgets/base",
            "_model_module_version": "1.2.0",
            "_model_name": "LayoutModel",
            "_view_count": null,
            "_view_module": "@jupyter-widgets/base",
            "_view_module_version": "1.2.0",
            "_view_name": "LayoutView",
            "align_content": null,
            "align_items": null,
            "align_self": null,
            "border": null,
            "bottom": null,
            "display": null,
            "flex": null,
            "flex_flow": null,
            "grid_area": null,
            "grid_auto_columns": null,
            "grid_auto_flow": null,
            "grid_auto_rows": null,
            "grid_column": null,
            "grid_gap": null,
            "grid_row": null,
            "grid_template_areas": null,
            "grid_template_columns": null,
            "grid_template_rows": null,
            "height": null,
            "justify_content": null,
            "justify_items": null,
            "left": null,
            "margin": null,
            "max_height": null,
            "max_width": null,
            "min_height": null,
            "min_width": null,
            "object_fit": null,
            "object_position": null,
            "order": null,
            "overflow": null,
            "overflow_x": null,
            "overflow_y": null,
            "padding": null,
            "right": null,
            "top": null,
            "visibility": null,
            "width": null
          }
        }
      }
    }
  },
  "nbformat": 4,
  "nbformat_minor": 0
}
